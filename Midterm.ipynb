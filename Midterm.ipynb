{
  "nbformat": 4,
  "nbformat_minor": 0,
  "metadata": {
    "colab": {
      "name": "Midterm.ipynb",
      "provenance": [],
      "collapsed_sections": [],
      "authorship_tag": "ABX9TyOI912ily90ab8L6jYuWSkt"
    },
    "kernelspec": {
      "name": "python3",
      "display_name": "Python 3"
    },
    "language_info": {
      "name": "python"
    }
  },
  "cells": [
    {
      "cell_type": "markdown",
      "metadata": {
        "id": "rPwKgaZ9kpqQ"
      },
      "source": [
        "#- Obtain the text data"
      ]
    },
    {
      "cell_type": "markdown",
      "metadata": {
        "id": "_X7hQJew2HDN"
      },
      "source": [
        "**Let's first see how one of the URL in google reviews look like**"
      ]
    },
    {
      "cell_type": "markdown",
      "metadata": {
        "id": "0Va8kXZwk1kf"
      },
      "source": [
        "**https://www.google.com/async/reviewSort?vet=12ahUKEwjSiv6upP3vAhUuwosBHTD_Cm0Qxyx6BAgBECo..i&ved=2ahUKEwjSiv6upP3vAhUuwosBHTD_Cm0Qjit6BQgBEJwB&client=safari&yv=3&async=feature_id:0x346835ead3155553%3A0x7a5bfa8567bd7d,review_source:All%20reviews,sort_by:qualityScore,is_owner:false,filter_text:,associated_topic:,next_page_token:EgMIzA0,_pms:s,_fmt:pc**"
      ]
    },
    {
      "cell_type": "markdown",
      "metadata": {
        "id": "Az6msHzh27ju"
      },
      "source": [
        "- We can find that the URL conbine with different \"next_page_token\"\n",
        "- So, we defined our \"user agent\" from the network and \"url_prefix\" to save the URL before different \"next_page_token\""
      ]
    },
    {
      "cell_type": "code",
      "metadata": {
        "id": "MhEBFhgMkk69"
      },
      "source": [
        "# My user agent from safari\n",
        "headers = {\n",
        "   'user-agent': 'Mozilla/5.0 (Macintosh; Intel Mac OS X 10_15_6) AppleWebKit/605.1.15 (KHTML, like Gecko) Version/14.0.3 Safari/605.1.15'\n",
        "   }\n",
        "restaurant_name = \"海底撈新竹店\" #2884 reviews \n",
        "url_prefix = \" https://www.google.com/async/reviewSort?vet=12ahUKEwjSiv6upP3vAhUuwosBHTD_Cm0Qxyx6BAgBECo..i&ved=2ahUKEwjSiv6upP3vAhUuwosBHTD_Cm0Qjit6BQgBEJwB&client=safari&yv=3&async=feature_id:0x346835ead3155553%3A0x7a5bfa8567bd7d,review_source:All%20reviews,sort_by:qualityScore,is_owner:false,filter_text:,associated_topic:,next_page_token:\"\n",
        "\n",
        "\n",
        "\n"
      ],
      "execution_count": null,
      "outputs": []
    },
    {
      "cell_type": "markdown",
      "metadata": {
        "id": "Ls8TIA1F39fH"
      },
      "source": [
        "**Import packages that we need**"
      ]
    },
    {
      "cell_type": "code",
      "metadata": {
        "id": "YF_tkMx6-Vox"
      },
      "source": [
        "import random\n",
        "import time\n",
        "import pandas as pd\n",
        "import requests\n",
        "from bs4 import BeautifulSoup"
      ],
      "execution_count": null,
      "outputs": []
    },
    {
      "cell_type": "code",
      "metadata": {
        "colab": {
          "base_uri": "https://localhost:8080/"
        },
        "id": "kZInR8RMotwm",
        "outputId": "2d72fd2c-ffcd-489d-e8d0-16446b57992b"
      },
      "source": [
        "next_page_token=pd.read_csv(\"google_reviews next_page_token sort.csv\")\n"
      ],
      "execution_count": null,
      "outputs": [
        {
          "output_type": "stream",
          "text": [
            "     sort    code\n",
            "0      10  EgIICg\n",
            "1      20  EgIIFA\n",
            "2      30  EgIIHg\n",
            "3      40  EgIIKA\n",
            "4      50  EgIIMg\n",
            "..    ...     ...\n",
            "283  2840     NaN\n",
            "284  2850     NaN\n",
            "285  2860     NaN\n",
            "286  2870     NaN\n",
            "287  2880     NaN\n",
            "\n",
            "[288 rows x 2 columns]\n"
          ],
          "name": "stdout"
        }
      ]
    },
    {
      "cell_type": "code",
      "metadata": {
        "id": "0EfdWrAo9Pnp"
      },
      "source": [
        "\n",
        "#bulit data frame to store \"author\", \"grade\", \"comment\"\n",
        "author =[]\n",
        "grade = []\n",
        "comment = []\n",
        "\n",
        "\n",
        "\n",
        "for i in range(0,174):  #we found that only about 1740 reviews which contain text \n",
        "  next_page_token_value= next_page_token.loc[i, 'code']\n",
        "# to built the complete URL\n",
        "  url =  url_prefix  +str(next_page_token_value)+  \",_pms:s,_fmt:pc\" \n",
        "  \n",
        "  sleep_time=random.uniform(0,2)\n",
        "  #print(f\"remains{sleep_time}second...\")\n",
        "  time.sleep(sleep_time)\n",
        "  try:\n",
        "    text = requests.get(url,headers=headers).text\n",
        "   \n",
        "    soup = BeautifulSoup(text,'lxml')\n",
        "    \n",
        "    for s in soup.find_all(class_='jxjCjc'):\n",
        "            \n",
        "            #we double check if there are no text in reviews \n",
        "      if s.find(class_=\"Jtu6Td\").text != \"\":\n",
        "                #print(s.find(class_=\"Jtu6Td\").text)\n",
        "        comment.append(s.find(class_=\"Jtu6Td\").text)\n",
        "        author.append(s.find(class_=\"TSUbDb\").text)\n",
        "                #print(author)\n",
        "        grade.append(s.find(class_='Fam1ne')['aria-label'].split(\"：\")[1].split(\" \")[0])\n",
        "                #print(grade)\n",
        "        \n",
        "  except:\n",
        "    print(\"No more reivews\")\n",
        "    break\n",
        "                                        \n",
        "  #print(f\"done\")\n",
        "\n",
        "#整體成pd\n",
        "google_comment_df_H = pd.DataFrame({\n",
        "    \"author\":author,\n",
        "    \"grade\":grade,\n",
        "    \"comment\":comment,    \n",
        "    })"
      ],
      "execution_count": 60,
      "outputs": []
    },
    {
      "cell_type": "markdown",
      "metadata": {
        "id": "ifgCskBi5mX0"
      },
      "source": [
        "-  We got 1620 reviews in 海底撈新竹店"
      ]
    },
    {
      "cell_type": "code",
      "metadata": {
        "colab": {
          "base_uri": "https://localhost:8080/"
        },
        "id": "J4bC_P42FyCn",
        "outputId": "e2bb4119-6014-4faf-80dd-643482224dc0"
      },
      "source": [
        "print(google_comment_df_H)"
      ],
      "execution_count": 62,
      "outputs": [
        {
          "output_type": "stream",
          "text": [
            "            author grade                                            comment\n",
            "0        Elsa Elsa   5.0                            服務好 餐點好吃服務人員推薦正勳跟怡萱唷💕💕💕\n",
            "1               賴安   4.0                  服務很好，肉品，蔬菜都不錯，我最愛炸的撈麵，是隱藏版，只能店員點餐\n",
            "2          Eilleen   5.0  3/21 第一次到新竹店用餐沒想到居然有圈菜名送餐點的小遊戲可以消磨等待時間 ⋯⋯更多3/2...\n",
            "3         tracy cc   5.0  我想給他們很多的星星，每位員工都在自己的崗位上做到最好。食物新鮮，好吃，親切，活潑，仔細。還...\n",
            "4               紫柔   5.0                 態度非常親切也很熱情，都是保持著笑容吃的也很愉快銀絲卷超級大推🤤♥️\n",
            "...            ...   ...                                                ...\n",
            "1615           謝小金   5.0                         (由 Google 提供翻譯) 肉麻(原始評論)肉麻\n",
            "1616           黃宗琳   2.0                     (由 Google 提供翻譯) 等太久了(原始評論)等太久了\n",
            "1617  Xavier Huang   5.0                     (由 Google 提供翻譯) 表演很棒(原始評論)表演很棒\n",
            "1618    Nimo Zhang   5.0         (由 Google 提供翻譯) 好吃又好玩表演看不完(原始評論)好吃又好玩表演看不完\n",
            "1619           徐月娥   5.0                 (由 Google 提供翻譯) 可口的(原始評論)Delicious\n",
            "\n",
            "[1620 rows x 3 columns]\n"
          ],
          "name": "stdout"
        }
      ]
    },
    {
      "cell_type": "code",
      "metadata": {
        "colab": {
          "base_uri": "https://localhost:8080/",
          "height": 443
        },
        "id": "9frzRo7qHuRj",
        "outputId": "57c9ec6c-3c07-4e76-c88f-280abec3e15c"
      },
      "source": [
        "\n",
        "\n"
      ],
      "execution_count": null,
      "outputs": [
        {
          "output_type": "error",
          "ename": "WebDriverException",
          "evalue": "ignored",
          "traceback": [
            "\u001b[0;31m---------------------------------------------------------------------------\u001b[0m",
            "\u001b[0;31mFileNotFoundError\u001b[0m                         Traceback (most recent call last)",
            "\u001b[0;32m/usr/local/lib/python3.7/dist-packages/selenium/webdriver/common/service.py\u001b[0m in \u001b[0;36mstart\u001b[0;34m(self)\u001b[0m\n\u001b[1;32m     75\u001b[0m                                             \u001b[0mstderr\u001b[0m\u001b[0;34m=\u001b[0m\u001b[0mself\u001b[0m\u001b[0;34m.\u001b[0m\u001b[0mlog_file\u001b[0m\u001b[0;34m,\u001b[0m\u001b[0;34m\u001b[0m\u001b[0;34m\u001b[0m\u001b[0m\n\u001b[0;32m---> 76\u001b[0;31m                                             stdin=PIPE)\n\u001b[0m\u001b[1;32m     77\u001b[0m         \u001b[0;32mexcept\u001b[0m \u001b[0mTypeError\u001b[0m\u001b[0;34m:\u001b[0m\u001b[0;34m\u001b[0m\u001b[0;34m\u001b[0m\u001b[0m\n",
            "\u001b[0;32m/usr/lib/python3.7/subprocess.py\u001b[0m in \u001b[0;36m__init__\u001b[0;34m(self, args, bufsize, executable, stdin, stdout, stderr, preexec_fn, close_fds, shell, cwd, env, universal_newlines, startupinfo, creationflags, restore_signals, start_new_session, pass_fds, encoding, errors, text)\u001b[0m\n\u001b[1;32m    799\u001b[0m                                 \u001b[0merrread\u001b[0m\u001b[0;34m,\u001b[0m \u001b[0merrwrite\u001b[0m\u001b[0;34m,\u001b[0m\u001b[0;34m\u001b[0m\u001b[0;34m\u001b[0m\u001b[0m\n\u001b[0;32m--> 800\u001b[0;31m                                 restore_signals, start_new_session)\n\u001b[0m\u001b[1;32m    801\u001b[0m         \u001b[0;32mexcept\u001b[0m\u001b[0;34m:\u001b[0m\u001b[0;34m\u001b[0m\u001b[0;34m\u001b[0m\u001b[0m\n",
            "\u001b[0;32m/usr/lib/python3.7/subprocess.py\u001b[0m in \u001b[0;36m_execute_child\u001b[0;34m(self, args, executable, preexec_fn, close_fds, pass_fds, cwd, env, startupinfo, creationflags, shell, p2cread, p2cwrite, c2pread, c2pwrite, errread, errwrite, restore_signals, start_new_session)\u001b[0m\n\u001b[1;32m   1550\u001b[0m                             \u001b[0merr_msg\u001b[0m \u001b[0;34m+=\u001b[0m \u001b[0;34m': '\u001b[0m \u001b[0;34m+\u001b[0m \u001b[0mrepr\u001b[0m\u001b[0;34m(\u001b[0m\u001b[0merr_filename\u001b[0m\u001b[0;34m)\u001b[0m\u001b[0;34m\u001b[0m\u001b[0;34m\u001b[0m\u001b[0m\n\u001b[0;32m-> 1551\u001b[0;31m                     \u001b[0;32mraise\u001b[0m \u001b[0mchild_exception_type\u001b[0m\u001b[0;34m(\u001b[0m\u001b[0merrno_num\u001b[0m\u001b[0;34m,\u001b[0m \u001b[0merr_msg\u001b[0m\u001b[0;34m,\u001b[0m \u001b[0merr_filename\u001b[0m\u001b[0;34m)\u001b[0m\u001b[0;34m\u001b[0m\u001b[0;34m\u001b[0m\u001b[0m\n\u001b[0m\u001b[1;32m   1552\u001b[0m                 \u001b[0;32mraise\u001b[0m \u001b[0mchild_exception_type\u001b[0m\u001b[0;34m(\u001b[0m\u001b[0merr_msg\u001b[0m\u001b[0;34m)\u001b[0m\u001b[0;34m\u001b[0m\u001b[0;34m\u001b[0m\u001b[0m\n",
            "\u001b[0;31mFileNotFoundError\u001b[0m: [Errno 2] No such file or directory: 'chromedriver': 'chromedriver'",
            "\nDuring handling of the above exception, another exception occurred:\n",
            "\u001b[0;31mWebDriverException\u001b[0m                        Traceback (most recent call last)",
            "\u001b[0;32m<ipython-input-40-3fcb42aa371a>\u001b[0m in \u001b[0;36m<module>\u001b[0;34m()\u001b[0m\n\u001b[1;32m     11\u001b[0m \u001b[0;32mimport\u001b[0m \u001b[0mtime\u001b[0m\u001b[0;34m\u001b[0m\u001b[0;34m\u001b[0m\u001b[0m\n\u001b[1;32m     12\u001b[0m \u001b[0;34m\u001b[0m\u001b[0m\n\u001b[0;32m---> 13\u001b[0;31m \u001b[0mchrome\u001b[0m \u001b[0;34m=\u001b[0m \u001b[0mwebdriver\u001b[0m\u001b[0;34m.\u001b[0m\u001b[0mChrome\u001b[0m\u001b[0;34m(\u001b[0m\u001b[0;34m)\u001b[0m\u001b[0;34m\u001b[0m\u001b[0;34m\u001b[0m\u001b[0m\n\u001b[0m\u001b[1;32m     14\u001b[0m \u001b[0mwebdriver\u001b[0m \u001b[0;34m=\u001b[0m \u001b[0mchrome\u001b[0m\u001b[0;34m\u001b[0m\u001b[0;34m\u001b[0m\u001b[0m\n\u001b[1;32m     15\u001b[0m \u001b[0;34m\u001b[0m\u001b[0m\n",
            "\u001b[0;32m/usr/local/lib/python3.7/dist-packages/selenium/webdriver/chrome/webdriver.py\u001b[0m in \u001b[0;36m__init__\u001b[0;34m(self, executable_path, port, options, service_args, desired_capabilities, service_log_path, chrome_options, keep_alive)\u001b[0m\n\u001b[1;32m     71\u001b[0m             \u001b[0mservice_args\u001b[0m\u001b[0;34m=\u001b[0m\u001b[0mservice_args\u001b[0m\u001b[0;34m,\u001b[0m\u001b[0;34m\u001b[0m\u001b[0;34m\u001b[0m\u001b[0m\n\u001b[1;32m     72\u001b[0m             log_path=service_log_path)\n\u001b[0;32m---> 73\u001b[0;31m         \u001b[0mself\u001b[0m\u001b[0;34m.\u001b[0m\u001b[0mservice\u001b[0m\u001b[0;34m.\u001b[0m\u001b[0mstart\u001b[0m\u001b[0;34m(\u001b[0m\u001b[0;34m)\u001b[0m\u001b[0;34m\u001b[0m\u001b[0;34m\u001b[0m\u001b[0m\n\u001b[0m\u001b[1;32m     74\u001b[0m \u001b[0;34m\u001b[0m\u001b[0m\n\u001b[1;32m     75\u001b[0m         \u001b[0;32mtry\u001b[0m\u001b[0;34m:\u001b[0m\u001b[0;34m\u001b[0m\u001b[0;34m\u001b[0m\u001b[0m\n",
            "\u001b[0;32m/usr/local/lib/python3.7/dist-packages/selenium/webdriver/common/service.py\u001b[0m in \u001b[0;36mstart\u001b[0;34m(self)\u001b[0m\n\u001b[1;32m     81\u001b[0m                 raise WebDriverException(\n\u001b[1;32m     82\u001b[0m                     \"'%s' executable needs to be in PATH. %s\" % (\n\u001b[0;32m---> 83\u001b[0;31m                         os.path.basename(self.path), self.start_error_message)\n\u001b[0m\u001b[1;32m     84\u001b[0m                 )\n\u001b[1;32m     85\u001b[0m             \u001b[0;32melif\u001b[0m \u001b[0merr\u001b[0m\u001b[0;34m.\u001b[0m\u001b[0merrno\u001b[0m \u001b[0;34m==\u001b[0m \u001b[0merrno\u001b[0m\u001b[0;34m.\u001b[0m\u001b[0mEACCES\u001b[0m\u001b[0;34m:\u001b[0m\u001b[0;34m\u001b[0m\u001b[0;34m\u001b[0m\u001b[0m\n",
            "\u001b[0;31mWebDriverException\u001b[0m: Message: 'chromedriver' executable needs to be in PATH. Please see https://sites.google.com/a/chromium.org/chromedriver/home\n"
          ]
        }
      ]
    },
    {
      "cell_type": "code",
      "metadata": {
        "id": "cW89UP-LLqyg"
      },
      "source": [
        ""
      ],
      "execution_count": null,
      "outputs": []
    }
  ]
}